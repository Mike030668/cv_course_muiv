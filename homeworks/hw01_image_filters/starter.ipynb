{
  "cells": [
    {
      "cell_type": "markdown",
      "metadata": {},
      "source": [
        "# ДЗ 1: Фильтрация и свёртка (starter)\n",
        "Заполните функции ниже и сравните результат с OpenCV."
      ]
    },
    {
      "cell_type": "code",
      "metadata": {},
      "execution_count": null,
      "outputs": [],
      "source": [
        "import numpy as np\n",
        "from typing import Tuple\n",
        "\n",
        "def conv2d_gray(img: np.ndarray, kernel: np.ndarray) -> np.ndarray:\n",
        "    \"\"\"Свёртка серого изображения ядром (без паддинга).\n",
        "    img: HxW, kernel: kxk (k нечётное). Возвращает массив (H-k+1)x(W-k+1).\n",
        "    \"\"\"\n",
        "    H, W = img.shape\n",
        "    k = kernel.shape[0]\n",
        "    out = np.zeros((H-k+1, W-k+1), dtype=float)\n",
        "    # TODO: реализуйте двойной цикл по пикселям и умножение на ядро\n",
        "    return out\n"
      ]
    },
    {
      "cell_type": "markdown",
      "metadata": {},
      "source": [
        "## Вопросы\n",
        "1. Чем отличается сглаживание в пространственной и частотной областях?\n",
        "2. Когда имеет смысл использовать фильтр Винера?"
      ]
    }
  ],
  "metadata": {
    "language_info": {
      "name": "python",
      "version": "3.11"
    }
  },
  "nbformat": 4,
  "nbformat_minor": 5
}