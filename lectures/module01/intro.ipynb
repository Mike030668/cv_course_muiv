{
  "cells": [
    {
      "cell_type": "markdown",
      "metadata": {},
      "source": [
        "# Лекция 1: Введение в обработку изображений\n",
        "\n",
        "План: обзор курса, инструменты, базовые операции с изображениями в OpenCV/NumPy."
      ]
    },
    {
      "cell_type": "code",
      "metadata": {},
      "execution_count": null,
      "outputs": [],
      "source": [
        "import cv2, numpy as np, matplotlib.pyplot as plt\n",
        "img = np.zeros((128,128,3), dtype=np.uint8)\n",
        "img[32:96,32:96] = (255,255,255)\n",
        "plt.imshow(cv2.cvtColor(img, cv2.COLOR_BGR2RGB)); plt.axis('off')"
      ]
    }
  ],
  "metadata": {
    "language_info": {
      "name": "python",
      "version": "3.11"
    }
  },
  "nbformat": 4,
  "nbformat_minor": 5
}