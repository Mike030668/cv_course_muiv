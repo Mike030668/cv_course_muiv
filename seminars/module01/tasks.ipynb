{
  "cells": [
    {
      "cell_type": "markdown",
      "metadata": {},
      "source": [
        "# Семинар 1: Базовые операции в OpenCV\n",
        "Задание: загрузка, изменение размеров, повороты, конвертация цветовых пространств."
      ]
    },
    {
      "cell_type": "code",
      "metadata": {},
      "execution_count": null,
      "outputs": [],
      "source": [
        "# TODO: реализуйте функцию resize_keep_aspect(img, max_size)"
      ]
    }
  ],
  "metadata": {
    "language_info": {
      "name": "python",
      "version": "3.11"
    }
  },
  "nbformat": 4,
  "nbformat_minor": 5
}