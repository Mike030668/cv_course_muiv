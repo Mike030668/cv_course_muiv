{
 "cells": [
  {
   "cell_type": "markdown",
   "id": "259ff4ba",
   "metadata": {},
   "source": [
    "# Модуль 1 · Семинар · tasks_1\n",
    "\n",
    "Ответы на вопросы самопроверки и решения мини-упражнений из лекции **intro**.\n",
    "\n",
    "**Зависимости**: `numpy`, `opencv-python (cv2)`, `matplotlib`.\n"
   ]
  },
  {
   "cell_type": "markdown",
   "id": "3bbf46a9",
   "metadata": {},
   "source": [
    "## Q1. Чем отличается `uint8` представление изображения от `float32` и когда удобно переходить к float?\n",
    "\n"
   ]
  },
  {
   "cell_type": "markdown",
   "id": "4c8d2a1d",
   "metadata": {},
   "source": [
    "## Q2. Зачем для Matplotlib часто переводить BGR→RGB?\n",
    "\n"
   ]
  },
  {
   "cell_type": "markdown",
   "id": "f6b160ae",
   "metadata": {},
   "source": [
    "## Q3. Что показывает гистограмма яркости? Как меняется гистограмма после линейного растяжения?\n",
    "\n"
   ]
  },
  {
   "cell_type": "markdown",
   "id": "3b36d3a3",
   "metadata": {},
   "source": [
    "## Q4. Что делает гамма-коррекция и почему её применяют на нормированных значениях?\n",
    "\n",
    "\n"
   ]
  },
  {
   "cell_type": "markdown",
   "id": "4aef02bf",
   "metadata": {},
   "source": [
    "## Q5. Почему при сильном уменьшении изображений возникает потеря деталей/алиасинг?\n",
    "\n"
   ]
  },
  {
   "cell_type": "markdown",
   "id": "c1c6ee0e",
   "metadata": {},
   "source": [
    "---\n",
    "## Мини-упражнение 1 : линейное контрастирование с 1%-клиппингом хвостов\n",
    "Задача: обрезать нижние 1% и верхние 1% значений яркости перед линейным растяжением на полный диапазон.\n",
    "\n",
    "**Примечания:**\n",
    "- Поддержим как `uint8` (0..255), так и `float` ([0,1]).\n",
    "- Для цветного изображения переводим в HSV: растягиваем **V** (Value), возвращаемся в исходное пространство (это простая эвристика). Для строгости можно работать поканально или с яркостью из Lab.\n"
   ]
  },
  {
   "cell_type": "markdown",
   "id": "82fed20b",
   "metadata": {},
   "source": [
    "---\n",
    "## Мини-упражнение 2 : диагональный грид, уменьшение/увеличение (nearest/bilinear/bicubic)\n",
    "1) Сгенерируем диагональный узор.\n",
    "2) Сильно уменьшим изображение (anti-aliasing: `INTER_AREA`).\n",
    "3) Увеличим обратно тремя способами: nearest, bilinear, bicubic, сравним артефакты.\n"
   ]
  }
 ],
 "metadata": {
  "kernelspec": {
   "display_name": "Python 3",
   "language": "python",
   "name": "python3"
  },
  "language_info": {
   "codemirror_mode": {
    "name": "ipython",
    "version": 3
   },
   "file_extension": ".py",
   "mimetype": "text/x-python",
   "name": "python",
   "nbconvert_exporter": "python",
   "pygments_lexer": "ipython3",
   "version": "3.12.10"
  }
 },
 "nbformat": 4,
 "nbformat_minor": 5
}
